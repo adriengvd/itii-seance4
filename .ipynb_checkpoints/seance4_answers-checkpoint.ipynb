{
 "cells": [
  {
   "cell_type": "markdown",
   "metadata": {},
   "source": [
    "# Séance 4"
   ]
  },
  {
   "cell_type": "raw",
   "metadata": {},
   "source": [
    "Uh idk"
   ]
  },
  {
   "cell_type": "code",
   "execution_count": null,
   "metadata": {},
   "outputs": [],
   "source": [
    "from sympy import *"
   ]
  },
  {
   "cell_type": "code",
   "execution_count": 4,
   "metadata": {},
   "outputs": [
    {
     "data": {
      "text/plain": [
       "[-1, 1]"
      ]
     },
     "execution_count": 4,
     "metadata": {},
     "output_type": "execute_result"
    }
   ],
   "source": [
    "x = Symbol('x')\n",
    "solve(x**2 - 1, x)          "
   ]
  },
  {
   "cell_type": "markdown",
   "metadata": {},
   "source": [
    "## Partie réelle et imaginaire"
   ]
  },
  {
   "cell_type": "code",
   "execution_count": 12,
   "metadata": {},
   "outputs": [
    {
     "name": "stdout",
     "output_type": "stream",
     "text": [
      "Réel :  1 Imaginaire :  59050\n"
     ]
    }
   ],
   "source": [
    "print(\"Réel : \", re(1+I*sqrt(3)**20 / 1+I), \"Imaginaire : \", im(1+I*sqrt(3)**20 / 1+I))"
   ]
  },
  {
   "cell_type": "code",
   "execution_count": 16,
   "metadata": {},
   "outputs": [
    {
     "name": "stdout",
     "output_type": "stream",
     "text": [
      "Dérivée de xe^x^x^x par rapport à x : \n"
     ]
    },
    {
     "data": {
      "text/latex": [
       "$\\displaystyle x x^{x^{x}} \\left(x^{x} \\left(\\log{\\left(x \\right)} + 1\\right) \\log{\\left(x \\right)} + \\frac{x^{x}}{x}\\right) e^{x^{x^{x}}} + e^{x^{x^{x}}}$"
      ],
      "text/plain": [
       "x*x**(x**x)*(x**x*(log(x) + 1)*log(x) + x**x/x)*exp(x**(x**x)) + exp(x**(x**x))"
      ]
     },
     "execution_count": 16,
     "metadata": {},
     "output_type": "execute_result"
    }
   ],
   "source": [
    "print(\"Dérivée de xe^x^x^x par rapport à x : \")\n",
    "diff(x*E**x**x**x)"
   ]
  },
  {
   "cell_type": "code",
   "execution_count": 20,
   "metadata": {},
   "outputs": [
    {
     "name": "stdout",
     "output_type": "stream",
     "text": [
      "L1 :  1\n",
      "L2 :  AccumBounds(-1, 1)\n"
     ]
    }
   ],
   "source": [
    "print(\"L1 : \", limit(sin(x)/x, x, 0))\n",
    "print(\"L2 : \", limit(sin(1/x), x, 0))"
   ]
  },
  {
   "cell_type": "code",
   "execution_count": 23,
   "metadata": {},
   "outputs": [
    {
     "name": "stdout",
     "output_type": "stream",
     "text": [
      "Nombre de 0 dans 123!: 42\n"
     ]
    }
   ],
   "source": [
    "\n",
    "f123 = factorial(123)\n",
    "count = 0\n",
    "for c in str(f123):\n",
    "    if c == '0' :\n",
    "        count += 1\n",
    "\n",
    "print(\"Nombre de 0 dans 123! :\", count)\n"
   ]
  }
 ],
 "metadata": {
  "kernelspec": {
   "display_name": "Python 3",
   "language": "python",
   "name": "python3"
  },
  "language_info": {
   "codemirror_mode": {
    "name": "ipython",
    "version": 3
   },
   "file_extension": ".py",
   "mimetype": "text/x-python",
   "name": "python",
   "nbconvert_exporter": "python",
   "pygments_lexer": "ipython3",
   "version": "3.7.6"
  }
 },
 "nbformat": 4,
 "nbformat_minor": 4
}
